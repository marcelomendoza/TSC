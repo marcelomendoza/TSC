{
 "cells": [
  {
   "cell_type": "markdown",
   "metadata": {},
   "source": [
    "# Time series classification for rumor detection \n",
    "## - Codes and data\n",
    "### Weiss, F., Mendoza, M. and Milios, E., 2020\n",
    "### mailto: marcelo.mendoza@usm.cl"
   ]
  },
  {
   "cell_type": "markdown",
   "metadata": {},
   "source": [
    "# Data preprocessing"
   ]
  },
  {
   "cell_type": "code",
   "execution_count": 1,
   "metadata": {},
   "outputs": [
    {
     "data": {
      "text/html": [
       "<style>.container { width:100% !important; }</style>"
      ],
      "text/plain": [
       "<IPython.core.display.HTML object>"
      ]
     },
     "metadata": {},
     "output_type": "display_data"
    }
   ],
   "source": [
    "from IPython.core.display import display, HTML\n",
    "display(HTML(\"<style>.container { width:100% !important; }</style>\"))"
   ]
  },
  {
   "cell_type": "code",
   "execution_count": 1319,
   "metadata": {},
   "outputs": [],
   "source": [
    "import os\n",
    "import numpy as np\n",
    "import matplotlib.pyplot as plt\n",
    "\n",
    "from tslearn.clustering import TimeSeriesKMeans\n",
    "from tslearn.metrics import cdist_dtw, dtw\n",
    "from tslearn.preprocessing import TimeSeriesScalerMeanVariance\n",
    "from tslearn.piecewise import PiecewiseAggregateApproximation\n",
    "\n",
    "from sklearn.model_selection import train_test_split\n",
    "from sklearn.metrics import silhouette_score, confusion_matrix, f1_score, accuracy_score, classification_report\n",
    "from sklearn.utils import shuffle\n",
    "from sklearn.preprocessing import MinMaxScaler\n",
    "from sklearn.metrics.pairwise import cosine_similarity\n",
    "\n",
    "import get_time_series "
   ]
  },
  {
   "cell_type": "code",
   "execution_count": 1320,
   "metadata": {},
   "outputs": [],
   "source": [
    "dest = 'twitter16' #chante to twitter15 for Twitter 15 dataset acq\n",
    "\n",
    "class data_process:\n",
    "    def __init__(self, path = dest):\n",
    "        self.news = get_time_series.load_data(path = path)\n",
    "        self.posts = get_time_series.load_data_posts(path = path)\n",
    "        self.users = get_time_series.load_data_users(path = path)\n"
   ]
  },
  {
   "cell_type": "code",
   "execution_count": 1321,
   "metadata": {},
   "outputs": [],
   "source": [
    "def ts_div_time_interactions(news, time, window, sliding_window):\n",
    "    nodes_order = news.tree.nodes_order\n",
    "    freq_ret, freq_rep, tic = ([] for i in range(3))\n",
    "    if sliding_window:\n",
    "        step = 1\n",
    "    else: \n",
    "        step = window\n",
    "    for i in np.arange(news.tree.first_time, news.tree.first_time + time, step): # interval lim inf \n",
    "            f_ret = 0\n",
    "            f_rep = 0\n",
    "            j = 0\n",
    "            while j<len(nodes_order):\n",
    "                if round(i,2) <= nodes_order[j].timestamp and nodes_order[j].timestamp <= round(i+window,2):\n",
    "                    if nodes_order[j].retweet:\n",
    "                        f_ret += 1       \n",
    "                    else:\n",
    "                        f_rep += 1\n",
    "                j +=1      \n",
    "            freq_ret.append(f_ret)\n",
    "            freq_rep.append(f_rep)\n",
    "            tic.append(i)\n",
    "            \n",
    "    return np.array(tic), np.array(freq_ret), np.array(freq_rep)\n"
   ]
  },
  {
   "cell_type": "code",
   "execution_count": 1322,
   "metadata": {},
   "outputs": [],
   "source": [
    "def get_interactions(news_dict, window, sliding_window, time):\n",
    "    label_to_idx = {'true': 0, 'non-rumor': 1, 'unverified': 2, 'false': 3}\n",
    "    retweets, posts, labels = ([] for i in range(3))\n",
    "    for id_ in news_dict.keys():\n",
    "        x, y_ret, y_rep = ts_div_time_interactions(news_dict[id_], time, window, sliding_window)\n",
    "        labels.append(label_to_idx[news_dict[id_].label]) \n",
    "        retweets.append(y_ret)\n",
    "        posts.append(y_rep)\n",
    "    \n",
    "    return np.array(labels), np.array(retweets), np.array(posts)"
   ]
  },
  {
   "cell_type": "code",
   "execution_count": 5,
   "metadata": {},
   "outputs": [],
   "source": [
    "data = data_process(dest)"
   ]
  },
  {
   "cell_type": "code",
   "execution_count": 6,
   "metadata": {},
   "outputs": [],
   "source": [
    "labels, retweets, posts = get_interactions(data.news, 10, True, 720)\n",
    "interactions = retweets + posts\n",
    "grad_interactions_1 = np.gradient(interactions, axis=1)\n",
    "grad_interactions_2 = np.gradient(grad_interactions_1, axis=1)"
   ]
  },
  {
   "cell_type": "code",
   "execution_count": 1348,
   "metadata": {},
   "outputs": [],
   "source": [
    "def get_multivariate_series(time_series, labels, scale = 1): \n",
    "        paa = PiecewiseAggregateApproximation(n_segments=140) # equals the number of segments and samples!!!\n",
    "        digits = []\n",
    "        for i in range(72):\n",
    "            digits.append(i*10)\n",
    "        digits = np.array(digits)\n",
    "        \n",
    "        if scale == 0:\n",
    "            time_series_scaled = []\n",
    "            for ts in time_series:\n",
    "                scaler = MinMaxScaler()\n",
    "                scaler.fit(ts)\n",
    "                ts = scaler.transform(ts)\n",
    "                ts = ts.reshape(ts.shape[0],ts.shape[1])\n",
    "                time_series_scaled.append(ts)\n",
    "        elif scale == 1:\n",
    "            time_series_scaled = []\n",
    "            for ts in time_series:\n",
    "                scaler = MinMaxScaler()\n",
    "                scaler.fit(ts)\n",
    "                ts = scaler.transform(ts)\n",
    "                ts = paa.inverse_transform(paa.fit_transform(ts))\n",
    "                ts = ts[:,digits,:]\n",
    "                ts = ts.reshape(ts.shape[0],ts.shape[1])\n",
    "                time_series_scaled.append(ts)\n",
    "                \n",
    "        time_series_multi = np.stack(time_series_scaled, axis=-1) # -1\n",
    "        return time_series_multi\n"
   ]
  },
  {
   "cell_type": "code",
   "execution_count": 1349,
   "metadata": {},
   "outputs": [],
   "source": [
    "time_series = get_multivariate_series(time_series=[retweets, posts, interactions, grad_interactions_1, grad_interactions_2], labels=labels, scale=1)\n",
    "x_train, x_test, y_train, y_test = train_test_split(time_series, labels, test_size=0.2, stratify=labels)"
   ]
  },
  {
   "cell_type": "code",
   "execution_count": 1350,
   "metadata": {},
   "outputs": [
    {
     "data": {
      "text/plain": [
       "(654, 72, 5)"
      ]
     },
     "execution_count": 1350,
     "metadata": {},
     "output_type": "execute_result"
    }
   ],
   "source": [
    "x_train.shape"
   ]
  },
  {
   "cell_type": "code",
   "execution_count": 1351,
   "metadata": {},
   "outputs": [
    {
     "data": {
      "text/plain": [
       "164"
      ]
     },
     "execution_count": 1351,
     "metadata": {},
     "output_type": "execute_result"
    }
   ],
   "source": [
    "np.where(y_train == 3)[0].shape[0]"
   ]
  },
  {
   "cell_type": "code",
   "execution_count": 1352,
   "metadata": {},
   "outputs": [
    {
     "data": {
      "image/png": "[encoded data removed]",
      "text/plain": [
       "<Figure size 432x432 with 5 Axes>"
      ]
     },
     "metadata": {
      "needs_background": "light"
     },
     "output_type": "display_data"
    }
   ],
   "source": [
    "plt.rcParams[\"figure.figsize\"] = (6,6)\n",
    "plt.figure()\n",
    "plt.subplot(5,1,1)\n",
    "plt.plot(time_series[0,:,0].ravel(), \"b-\")\n",
    "plt.subplot(5,1,2)\n",
    "plt.plot(time_series[0,:,1].ravel(), \"b-\")\n",
    "plt.subplot(5,1,3)\n",
    "plt.plot(time_series[0,:,2].ravel(), \"b-\")\n",
    "plt.subplot(5,1,4)\n",
    "plt.plot(time_series[0,:,3].ravel(), \"b-\")\n",
    "plt.subplot(5,1,5)\n",
    "plt.plot(time_series[0,:,4].ravel(), \"b-\")\n",
    "plt.tight_layout()\n",
    "plt.show()"
   ]
  },
  {
   "cell_type": "markdown",
   "metadata": {},
   "source": [
    "# Prototype-based clustering"
   ]
  },
  {
   "cell_type": "code",
   "execution_count": 1353,
   "metadata": {},
   "outputs": [],
   "source": [
    "def confusion_matrix(y_train,y_clus,n_prototypes):\n",
    "    n_classes = np.unique(y_train).shape[0]\n",
    "    conf = np.zeros((n_classes,n_prototypes), dtype=int)\n",
    "    n_instances = y_clus.shape[0]\n",
    "    for k in range(n_instances):\n",
    "        i = y_train[k]\n",
    "        j = y_clus[k]\n",
    "        conf[i][j] += 1\n",
    "    \n",
    "    return conf"
   ]
  },
  {
   "cell_type": "code",
   "execution_count": 1354,
   "metadata": {},
   "outputs": [],
   "source": [
    "def gini_coefficient(conf):\n",
    "    n_classes = conf.shape[0]\n",
    "    n_prototypes = conf.shape[1]\n",
    "    gini = np.zeros(n_prototypes, dtype=float)\n",
    "    for j in range(n_prototypes):\n",
    "        acc = float(conf[:,j].sum())\n",
    "        if acc > 0:\n",
    "            for i in range(n_classes):\n",
    "                ratio = float(conf[i,j])/acc\n",
    "                gini[j] += pow(ratio, 2)\n",
    "            gini[j] = round(1 - gini[j], 3)\n",
    "        else:\n",
    "            gini[j] = np.nan\n",
    "        \n",
    "    return gini"
   ]
  },
  {
   "cell_type": "code",
   "execution_count": 1355,
   "metadata": {},
   "outputs": [],
   "source": [
    "def k_clustering(x_train,fe):\n",
    "    n_prototypes = 20\n",
    "    n_instances = x_train.shape[0]\n",
    "    km_dba = TimeSeriesKMeans(n_clusters=n_prototypes, metric=\"dtw\", init=\"k-means++\")\n",
    "    y_clus = km_dba.fit_predict(x_train[:,:,fe])\n",
    "    return km_dba, y_clus"
   ]
  },
  {
   "cell_type": "code",
   "execution_count": 1356,
   "metadata": {},
   "outputs": [],
   "source": [
    "km_dba_0, y_clus_0 = k_clustering(x_train,0)\n",
    "km_dba_1, y_clus_1 = k_clustering(x_train,1) \n",
    "km_dba_2, y_clus_2 = k_clustering(x_train,2) \n",
    "km_dba_3, y_clus_3 = k_clustering(x_train,3) \n",
    "km_dba_4, y_clus_4 = k_clustering(x_train,4) "
   ]
  },
  {
   "cell_type": "code",
   "execution_count": 1357,
   "metadata": {},
   "outputs": [],
   "source": [
    "conf_0 = confusion_matrix(y_train,y_clus_0,20)\n",
    "conf_1 = confusion_matrix(y_train,y_clus_1,20)\n",
    "conf_2 = confusion_matrix(y_train,y_clus_2,20)\n",
    "conf_3 = confusion_matrix(y_train,y_clus_3,20)\n",
    "conf_4 = confusion_matrix(y_train,y_clus_4,20)"
   ]
  },
  {
   "cell_type": "code",
   "execution_count": 1358,
   "metadata": {},
   "outputs": [],
   "source": [
    "def matprint(mat, fmt=\"g\"):\n",
    "    col_maxes = [max([len((\"{:\"+fmt+\"}\").format(x)) for x in col]) for col in mat.T]\n",
    "    for x in mat:\n",
    "        for i, y in enumerate(x):\n",
    "            print((\"{:\"+str(col_maxes[i])+fmt+\"}\").format(y), end=\"  \")\n",
    "        print(\"\")"
   ]
  },
  {
   "cell_type": "code",
   "execution_count": 1359,
   "metadata": {},
   "outputs": [
    {
     "name": "stdout",
     "output_type": "stream",
     "text": [
      " 3  111  0   6  0  1  0  20  1  0  1  2  0  1  1  0  0  16  2   0  \n",
      "12   62  0  18  1  0  0  27  6  0  1  2  1  0  0  0  3  25  0   6  \n",
      " 4   97  0   4  1  0  1   1  1  1  0  0  2  0  0  0  0  41  0   8  \n",
      " 1   93  1   3  0  0  0   3  3  0  1  1  3  0  0  2  2  39  1  11  \n"
     ]
    }
   ],
   "source": [
    "matprint(conf_0)"
   ]
  },
  {
   "cell_type": "code",
   "execution_count": 1360,
   "metadata": {},
   "outputs": [
    {
     "name": "stdout",
     "output_type": "stream",
     "text": [
      "117  0  23  0  0  0  0  0  0  0   0  0  14  0   6  3  2  0  0  0  \n",
      " 61  1  25  5  0  1  0  2  1  1  18  1  31  1  14  0  1  1  0  0  \n",
      " 70  0  44  1  1  0  1  0  0  0   4  0  16  0  16  1  4  1  0  2  \n",
      " 89  0  30  0  0  0  0  0  0  0   1  0  15  0  21  3  4  0  1  0  \n"
     ]
    }
   ],
   "source": [
    "matprint(conf_1)"
   ]
  },
  {
   "cell_type": "code",
   "execution_count": 1361,
   "metadata": {},
   "outputs": [
    {
     "name": "stdout",
     "output_type": "stream",
     "text": [
      " 1  27   2  0  0  1  1  12  0  1  1  0   6  94  2  0   7   8  2  0  \n",
      " 8  65  15  0  0  1  2   9  0  5  1  2  23  13  1  0  10   8  1  0  \n",
      "10  17  10  1  0  0  0   2  0  2  0  1   0  73  0  1  10  33  0  1  \n",
      "11  35   6  0  1  0  0   1  1  3  1  1   4  66  1  0   7  25  1  0  \n"
     ]
    }
   ],
   "source": [
    "matprint(conf_2)"
   ]
  },
  {
   "cell_type": "code",
   "execution_count": 1362,
   "metadata": {},
   "outputs": [
    {
     "name": "stdout",
     "output_type": "stream",
     "text": [
      "28  0  0  0   7  0  0  1  0  0  1  0  0  103  0  22  2  0  1  0  \n",
      "37  0  0  1  10  0  2  0  1  0  0  1  1   54  0  55  1  1  0  0  \n",
      "44  0  0  0   2  1  1  0  0  1  0  0  1   97  0  14  0  0  0  0  \n",
      "42  1  1  0   3  0  1  0  2  0  0  0  0   92  1  20  0  0  0  1  \n"
     ]
    }
   ],
   "source": [
    "matprint(conf_3)"
   ]
  },
  {
   "cell_type": "code",
   "execution_count": 1363,
   "metadata": {},
   "outputs": [
    {
     "name": "stdout",
     "output_type": "stream",
     "text": [
      "3  36  0  0   4   84  0  34  0  2  0  1  0  0  0  0  1  0  0  0  \n",
      "5  22  1  1  12   79  0  36  0  1  0  0  1  1  0  1  2  1  1  0  \n",
      "1   8  0  1   3  115  0  26  1  0  0  2  0  0  0  1  2  0  0  1  \n",
      "4   9  0  3   2  115  1  24  0  1  1  2  0  0  1  0  1  0  0  0  \n"
     ]
    }
   ],
   "source": [
    "matprint(conf_4)"
   ]
  },
  {
   "cell_type": "code",
   "execution_count": 1364,
   "metadata": {},
   "outputs": [],
   "source": [
    "gini_0 = gini_coefficient(conf_0)\n",
    "gini_1 = gini_coefficient(conf_1)\n",
    "gini_2 = gini_coefficient(conf_2)\n",
    "gini_3 = gini_coefficient(conf_3)\n",
    "gini_4 = gini_coefficient(conf_4)"
   ]
  },
  {
   "cell_type": "code",
   "execution_count": 1365,
   "metadata": {},
   "outputs": [],
   "source": [
    "gini_5 = np.zeros(4, dtype=float)"
   ]
  },
  {
   "cell_type": "code",
   "execution_count": 1366,
   "metadata": {},
   "outputs": [
    {
     "name": "stdout",
     "output_type": "stream",
     "text": [
      "0.3898499999999999\n",
      "0.26675\n",
      "0.46814999999999996\n",
      "0.2413\n",
      "0.32484999999999997\n"
     ]
    }
   ],
   "source": [
    "print(sum(gini_0)/20)\n",
    "print(sum(gini_1)/20)\n",
    "print(sum(gini_2)/20)\n",
    "print(sum(gini_3)/20)\n",
    "print(sum(gini_4)/20)"
   ]
  },
  {
   "cell_type": "code",
   "execution_count": 1367,
   "metadata": {},
   "outputs": [],
   "source": [
    "def to_hmetis(partitions,ginis):\n",
    "    n_hyperedges = 0\n",
    "    n_instances = partitions[0].shape[0]\n",
    "    fh = open(\"tw16.hgr\",'w')\n",
    "    k = 0\n",
    "    for partition in partitions:\n",
    "        n_prototypes = np.unique(partition).shape[0]\n",
    "        gini = ginis[k]\n",
    "        for i in range(n_prototypes):\n",
    "            gin = gini[i]\n",
    "            if not np.isnan(gin):\n",
    "                w = int(100*(1 - gin)) # check if an int is needed\n",
    "                digits = np.where(partition == i)[0]\n",
    "                csize = len(digits)\n",
    "                if csize > 2:\n",
    "                    line = str(w) + ' '\n",
    "                    for j in range(csize):\n",
    "                        line += str(digits[j]+1) + ' ' \n",
    "                    line = line + '\\n'\n",
    "                    fh.write(line)\n",
    "                    n_hyperedges += 1\n",
    "        k += 1\n",
    "    fh.close()\n",
    "    return n_hyperedges, n_instances"
   ]
  },
  {
   "cell_type": "code",
   "execution_count": 1368,
   "metadata": {},
   "outputs": [
    {
     "data": {
      "text/plain": [
       "(54, 654)"
      ]
     },
     "execution_count": 1368,
     "metadata": {},
     "output_type": "execute_result"
    }
   ],
   "source": [
    "to_hmetis([y_clus_0,y_clus_1,y_clus_2,y_clus_3,y_clus_4,y_train],[gini_0,gini_1,gini_2,gini_3,gini_4,gini_5])"
   ]
  },
  {
   "cell_type": "markdown",
   "metadata": {},
   "source": [
    "In ~/hmetis-1.5-linux:\n",
    "\n",
    "./khmetis tw16.hgr 20 5 1000 3 1 3 0   \n",
    "\n",
    "parameters: nparts ubfactor nruns ctype otype vcycle dbglvl (3 1 3: GFC, Cut-minimization, Always V-cycle)"
   ]
  },
  {
   "cell_type": "code",
   "execution_count": 1917,
   "metadata": {},
   "outputs": [],
   "source": [
    "h_clus_40 = []\n",
    "filepath = 'tw16.hgr.part.40'\n",
    "with open(filepath) as fp: \n",
    "    cix = fp.readline().rstrip('\\n')\n",
    "    h_clus_40.append(int(cix))\n",
    "    while cix:\n",
    "        cix = fp.readline().rstrip('\\n')\n",
    "        if len(cix) > 0:\n",
    "            h_clus_40.append(int(cix))\n",
    "\n",
    "h_clus_40 = np.array(h_clus_40)"
   ]
  },
  {
   "cell_type": "code",
   "execution_count": 1372,
   "metadata": {},
   "outputs": [],
   "source": [
    "conf_10 = confusion_matrix(y_train,h_clus_10,10)\n",
    "conf_20 = confusion_matrix(y_train,h_clus_20,20)\n",
    "conf_30 = confusion_matrix(y_train,h_clus_30,30)"
   ]
  },
  {
   "cell_type": "code",
   "execution_count": 1797,
   "metadata": {},
   "outputs": [],
   "source": [
    "conf_40 = confusion_matrix(y_train,h_clus_40,40)"
   ]
  },
  {
   "cell_type": "code",
   "execution_count": 1918,
   "metadata": {},
   "outputs": [],
   "source": [
    "conf_51 = confusion_matrix(y_train,h_clus_51,51)\n",
    "conf_60 = confusion_matrix(y_train,h_clus_60,60)"
   ]
  },
  {
   "cell_type": "code",
   "execution_count": 1373,
   "metadata": {},
   "outputs": [
    {
     "name": "stdout",
     "output_type": "stream",
     "text": [
      "13  12  22  44   0  14   7  10  33  10  \n",
      "10  22  41   2   7  11  32   7   6  26  \n",
      "27   7   0  12  45  20   6  14  15  15  \n",
      "14  22   0  10  11  23  17  37  14  16  \n"
     ]
    }
   ],
   "source": [
    "matprint(conf_10)"
   ]
  },
  {
   "cell_type": "code",
   "execution_count": 1374,
   "metadata": {},
   "outputs": [
    {
     "name": "stdout",
     "output_type": "stream",
     "text": [
      " 6   6   7  14   9  14   4   3  15  12   0  16  17   3   3  19   0   5   9   3  \n",
      "10   4   8   3  10   0   4  28   4  21   3   6   4   2  19   0  25   8   0   5  \n",
      " 4   2   5  10  13   5  23   0  10   0  14   0   4  21   5   6   5  11  10  13  \n",
      "11  19  11   7   0  15   0   0   5   0  17   9   7   8   7   9   2  10  15  12  \n"
     ]
    }
   ],
   "source": [
    "matprint(conf_20)"
   ]
  },
  {
   "cell_type": "code",
   "execution_count": 1375,
   "metadata": {},
   "outputs": [
    {
     "name": "stdout",
     "output_type": "stream",
     "text": [
      " 4  13  10  10   0  8  7   5   2   0  5  14   3  6  5   3   2   7  15   5  12   3  14   0  0   5   0  5   0   2  \n",
      "13   0   0   0   4  0  3  17  17   0  8   8   8  9  6   4  20   0   0   0   0   4   4  11  6  10   3  5   0   4  \n",
      " 0   3  12   3   7  8  8   0   0   5  0   0  10  2  5  11   0  11   5   4   4  11   0   8  7   0  13  4   6  14  \n",
      " 5   6   0   9  11  6  3   0   3  17  9   0   0  3  6   4   0   4   2  13   6   4   4   3  9   6   6  7  16   2  \n"
     ]
    }
   ],
   "source": [
    "matprint(conf_30)"
   ]
  },
  {
   "cell_type": "code",
   "execution_count": 1798,
   "metadata": {},
   "outputs": [
    {
     "name": "stdout",
     "output_type": "stream",
     "text": [
      "3  2  0   4   0   0  12  10  15  6  4  3   0   6  11  4   6   0  0   5  6   3   0  0  2  4  0  3  8  0  9  4   0  15   0   4  8   0   0  8  \n",
      "3  3  9  11   2   0   2   7   0  3  9  5  10   0   0  0   1   4  3  12  5   3   2  8  7  0  7  9  3  0  0  4   0   2  15   0  4  11   0  0  \n",
      "5  6  0   1  12   3   0   0   2  0  0  5   5   0   2  7   0   0  9   0  0   1  15  7  5  5  8  3  4  9  6  9  17   0   0   0  0   2   4  9  \n",
      "5  4  6   0   3  14   1   0   0  6  4  4   0  11   4  6  10  13  5   0  4  10   0  0  3  8  0  0  2  8  2  0   0   0   0  11  5   4  11  0  \n"
     ]
    }
   ],
   "source": [
    "matprint(conf_40)"
   ]
  },
  {
   "cell_type": "code",
   "execution_count": 1919,
   "metadata": {},
   "outputs": [
    {
     "name": "stdout",
     "output_type": "stream",
     "text": [
      "5  0  3  9  4  0   0  8  11  0   2  7  7  0  0  2  0  3  0  2  5  13  4   2  5  4  8  8  4   2   0   0  0  4  6  5   2   3  0  0  9   0  4  6  0  0  3  3  2  0  0  \n",
      "0  6  0  4  0  4   0  5   0  9   0  0  0  7  0  2  5  2  4  4  3   0  6  10  7  2  5  5  0   0   2   0  7  0  0  6  11   0  5  5  0  13  2  0  7  3  8  2  0  0  3  \n",
      "6  0  8  0  5  3   0  0   0  0   0  2  0  0  4  7  3  4  3  2  0   0  0   0  1  0  0  0  9  11   0  10  3  9  7  2   0  10  8  0  0   0  7  4  6  8  2  3  2  8  4  \n",
      "2  7  2  0  4  6  13  0   2  4  10  4  6  5  9  2  4  3  6  4  5   0  3   0  0  7  0  0  0   0  11   3  2  0  0  0   0   0  0  8  4   0  0  3  0  2  0  4  9  4  6  \n"
     ]
    }
   ],
   "source": [
    "matprint(conf_51)"
   ]
  },
  {
   "cell_type": "code",
   "execution_count": 1914,
   "metadata": {},
   "outputs": [
    {
     "name": "stdout",
     "output_type": "stream",
     "text": [
      "8   0  0  4   0  0  0  0  0  0  4  0  3  1  9  0  0  0  2  0  4   0  5  3  8  0  2  3  4  10  0  3  11  2  6  8  0  0   0  0  4  0  0  4  3  7   0  0  11  5  5   0  5  2  5  0  3  5  6  0  \n",
      "0  11  6  0   0  0  5  5  0  1  1  7  0  2  0  9  3  0  5  0  0  11  6  0  3  3  2  3  2   1  2  8   0  0  0  0  8  2  11  0  7  0  4  0  3  3  11  0   0  0  4   0  0  0  0  2  5  6  2  0  \n",
      "0   0  2  3  11  4  0  6  7  6  0  0  7  3  2  0  0  6  0  9  7   0  0  0  0  0  0  0  5   0  6  0   0  5  0  0  0  6   0  5  0  5  5  5  0  0   0  8   0  6  0   0  2  9  6  9  0  0  0  6  \n",
      "2   0  3  4   0  7  6  0  4  4  5  4  0  5  0  2  8  4  4  2  0   0  0  8  0  8  7  5  0   0  3  0   0  3  5  3  3  3   0  6  0  6  2  2  5  0   0  3   0  0  2  11  4  0  0  0  3  0  3  5  \n"
     ]
    }
   ],
   "source": [
    "matprint(conf_60)"
   ]
  },
  {
   "cell_type": "code",
   "execution_count": 208,
   "metadata": {},
   "outputs": [
    {
     "data": {
      "image/png": "[encoded data removed]",
      "text/plain": [
       "<Figure size 864x144 with 2 Axes>"
      ]
     },
     "metadata": {
      "needs_background": "light"
     },
     "output_type": "display_data"
    }
   ],
   "source": [
    "import seaborn as sns\n",
    "\n",
    "ax = sns.heatmap(conf)\n",
    "plt.rcParams[\"figure.figsize\"] = (12,2)\n",
    "plt.show()"
   ]
  },
  {
   "cell_type": "code",
   "execution_count": 1920,
   "metadata": {},
   "outputs": [],
   "source": [
    "gini_10 = gini_coefficient(conf_10)\n",
    "gini_20 = gini_coefficient(conf_20)\n",
    "gini_30 = gini_coefficient(conf_30)\n",
    "gini_40 = gini_coefficient(conf_40)\n",
    "gini_51 = gini_coefficient(conf_51)\n",
    "gini_60 = gini_coefficient(conf_60)"
   ]
  },
  {
   "cell_type": "code",
   "execution_count": 1921,
   "metadata": {},
   "outputs": [
    {
     "name": "stdout",
     "output_type": "stream",
     "text": [
      "0.6226999999999999\n",
      "0.5858500000000001\n",
      "0.5611333333333335\n",
      "0.48672499999999974\n",
      "0.4779607843137253\n",
      "0.4243166666666665\n"
     ]
    }
   ],
   "source": [
    "print(sum(gini_10)/10)\n",
    "print(sum(gini_20)/20)\n",
    "print(sum(gini_30)/30)\n",
    "print(sum(gini_40)/40)\n",
    "print(sum(gini_51)/51)\n",
    "print(sum(gini_60)/60)"
   ]
  },
  {
   "cell_type": "code",
   "execution_count": 1922,
   "metadata": {},
   "outputs": [],
   "source": [
    "cidx_10 = dict()\n",
    "for j in range(conf_10.shape[1]):\n",
    "    cl = np.argmax(conf_10[:,j])\n",
    "    cidx_10[j] = cl\n",
    "\n",
    "cidx_20 = dict()\n",
    "for j in range(conf_20.shape[1]):\n",
    "    cl = np.argmax(conf_20[:,j])\n",
    "    cidx_20[j] = cl\n",
    "\n",
    "cidx_30 = dict()\n",
    "for j in range(conf_30.shape[1]):\n",
    "    cl = np.argmax(conf_30[:,j])\n",
    "    cidx_30[j] = cl\n",
    "    \n",
    "cidx_40 = dict()\n",
    "for j in range(conf_40.shape[1]):\n",
    "    cl = np.argmax(conf_40[:,j])\n",
    "    cidx_40[j] = cl\n",
    "\n",
    "cidx_51 = dict()\n",
    "for j in range(conf_51.shape[1]):\n",
    "    cl = np.argmax(conf_51[:,j])\n",
    "    cidx_51[j] = cl\n",
    "    \n",
    "cidx_60 = dict()\n",
    "for j in range(conf_60.shape[1]):\n",
    "    cl = np.argmax(conf_60[:,j])\n",
    "    cidx_60[j] = cl    "
   ]
  },
  {
   "cell_type": "code",
   "execution_count": 1379,
   "metadata": {},
   "outputs": [],
   "source": [
    "from tslearn.barycenters import dtw_barycenter_averaging\n",
    "from tslearn.metrics import dtw"
   ]
  },
  {
   "cell_type": "code",
   "execution_count": 1380,
   "metadata": {},
   "outputs": [],
   "source": [
    "def ba_computing(h_clus_,x_train,cidx_):\n",
    "    n_instances = h_clus_.shape[0]\n",
    "    n_prototypes = len(np.unique(h_clus_))\n",
    "    prototypes = []\n",
    "    for i in range(n_prototypes):\n",
    "        digits = np.where(h_clus_ == i)[0]\n",
    "        cls = cidx_[i]\n",
    "        x_ = x_train[digits,:,:]\n",
    "        y_ = y_train[digits]\n",
    "        digits_ = np.where(y_ == cls)[0]\n",
    "        ba = dtw_barycenter_averaging(x_[digits_,:,:])\n",
    "        prototypes.append(ba)\n",
    "    \n",
    "    return np.array(prototypes)\n",
    "    "
   ]
  },
  {
   "cell_type": "code",
   "execution_count": 1381,
   "metadata": {},
   "outputs": [],
   "source": [
    "prototypes_10 = ba_computing(h_clus_10,x_train,cidx_10)\n",
    "prototypes_20 = ba_computing(h_clus_20,x_train,cidx_20)\n",
    "prototypes_30 = ba_computing(h_clus_30,x_train,cidx_30)"
   ]
  },
  {
   "cell_type": "code",
   "execution_count": 1802,
   "metadata": {},
   "outputs": [],
   "source": [
    "prototypes_40 = ba_computing(h_clus_40,x_train,cidx_40)"
   ]
  },
  {
   "cell_type": "code",
   "execution_count": 1923,
   "metadata": {},
   "outputs": [],
   "source": [
    "prototypes_51 = ba_computing(h_clus_51,x_train,cidx_51)\n",
    "prototypes_60 = ba_computing(h_clus_60,x_train,cidx_60)"
   ]
  },
  {
   "cell_type": "code",
   "execution_count": 218,
   "metadata": {},
   "outputs": [
    {
     "data": {
      "image/png": "[encoded data removed]",
      "text/plain": [
       "<Figure size 792x792 with 20 Axes>"
      ]
     },
     "metadata": {
      "needs_background": "light"
     },
     "output_type": "display_data"
    }
   ],
   "source": [
    "plt.rcParams[\"figure.figsize\"] = (11,11)\n",
    "plt.rcParams.update({'font.size': 8})\n",
    "plt.figure()\n",
    "for i in range(len(prototypes)):\n",
    "        plt.subplot(4, 5, i+1)\n",
    "        for xx in x_train[h_clus == i]:\n",
    "            plt.plot(xx[:,1].ravel(), \"k-\", alpha=.1)\n",
    "            #plt.ylim(0,1)\n",
    "        plt.plot(prototypes[i][:,1].ravel(), \"r-\")\n"
   ]
  },
  {
   "cell_type": "markdown",
   "metadata": {},
   "source": [
    "# Pairwise datasets"
   ]
  },
  {
   "cell_type": "code",
   "execution_count": 1924,
   "metadata": {},
   "outputs": [],
   "source": [
    "def unassigned(x,y,prototypes,cidx):\n",
    "    max_dis = np.inf\n",
    "    arg_min = 0\n",
    "    for pid in cidx.keys():\n",
    "        cl = cidx[pid]\n",
    "        if cl == y:\n",
    "            p = prototypes[pid]\n",
    "            dis = dtw(x,p)\n",
    "            if dis < max_dis:\n",
    "                arg_min = pid\n",
    "                max_dis = dis\n",
    "    \n",
    "    return arg_min"
   ]
  },
  {
   "cell_type": "code",
   "execution_count": 1925,
   "metadata": {},
   "outputs": [],
   "source": [
    "from random import randint\n",
    "\n",
    "def create_pairs(x, y, prototypes, h_clus, cidx):\n",
    "        pairs = [] \n",
    "        labels = []\n",
    "        n_classes = np.unique(y).shape[0]\n",
    "        n_prototypes = prototypes.shape[0] \n",
    "        n_instances = x.shape[0]\n",
    "        for i in range(n_instances):\n",
    "            pid = h_clus[i]\n",
    "            cl_pr = cidx[pid]\n",
    "            cl_gr = y[i]\n",
    "            if cl_pr != cl_gr:\n",
    "                pid = unassigned(x[i], cl_gr, prototypes, cidx)\n",
    "            p = prototypes[pid]\n",
    "            for pix in np.delete(np.arange(n_prototypes), pid):\n",
    "                if cidx[pix] != cl_gr:\n",
    "                    _p = prototypes[pix]\n",
    "                    pairs += [[x[i], p]]\n",
    "                    labels += [0]\n",
    "                    pairs += [[x[i], _p]]\n",
    "                    labels += [1]\n",
    "         \n",
    "        pairs, labels = shuffle(np.array(pairs), np.array(labels), random_state=0)\n",
    "        \n",
    "        return pairs, labels \n",
    "            "
   ]
  },
  {
   "cell_type": "code",
   "execution_count": 1385,
   "metadata": {},
   "outputs": [],
   "source": [
    "tr_pairs_10, tr_y_10 = create_pairs(x_train, y_train, prototypes_10, h_clus_10, cidx_10)\n",
    "tr_pairs_20, tr_y_20 = create_pairs(x_train, y_train, prototypes_20, h_clus_20, cidx_20)\n",
    "tr_pairs_30, tr_y_30 = create_pairs(x_train, y_train, prototypes_30, h_clus_30, cidx_30)"
   ]
  },
  {
   "cell_type": "code",
   "execution_count": 1803,
   "metadata": {},
   "outputs": [],
   "source": [
    "tr_pairs_40, tr_y_40 = create_pairs(x_train, y_train, prototypes_40, h_clus_40, cidx_40)"
   ]
  },
  {
   "cell_type": "code",
   "execution_count": 1926,
   "metadata": {},
   "outputs": [],
   "source": [
    "tr_pairs_51, tr_y_51 = create_pairs(x_train, y_train, prototypes_51, h_clus_51, cidx_51)\n",
    "tr_pairs_60, tr_y_60 = create_pairs(x_train, y_train, prototypes_60, h_clus_60, cidx_60)"
   ]
  },
  {
   "cell_type": "code",
   "execution_count": 1929,
   "metadata": {},
   "outputs": [
    {
     "name": "stdout",
     "output_type": "stream",
     "text": [
      "10\n",
      "20\n",
      "30\n",
      "40\n",
      "51\n",
      "60\n"
     ]
    }
   ],
   "source": [
    "print(prototypes_10.shape[0])\n",
    "print(prototypes_20.shape[0])\n",
    "print(prototypes_30.shape[0])\n",
    "print(prototypes_40.shape[0])\n",
    "print(prototypes_51.shape[0])\n",
    "print(prototypes_60.shape[0])"
   ]
  },
  {
   "cell_type": "code",
   "execution_count": 1930,
   "metadata": {},
   "outputs": [
    {
     "name": "stdout",
     "output_type": "stream",
     "text": [
      "(9808, 2, 72, 5)\n",
      "(19620, 2, 72, 5)\n",
      "(29434, 2, 72, 5)\n",
      "(39246, 2, 72, 5)\n",
      "(50048, 2, 72, 5)\n",
      "(58894, 2, 72, 5)\n"
     ]
    }
   ],
   "source": [
    "print(tr_pairs_10.shape)\n",
    "print(tr_pairs_20.shape)\n",
    "print(tr_pairs_30.shape)\n",
    "print(tr_pairs_40.shape)\n",
    "print(tr_pairs_51.shape)\n",
    "print(tr_pairs_60.shape)"
   ]
  },
  {
   "cell_type": "code",
   "execution_count": 1931,
   "metadata": {},
   "outputs": [],
   "source": [
    "import tensorflow as tf\n",
    "from tensorflow.keras import Input, Model, Sequential\n",
    "from tensorflow.keras.layers import Flatten, Dense, Dropout, Lambda, Activation, LSTM\n",
    "from tensorflow.keras.optimizers import RMSprop, Adam, SGD, Adagrad, Adadelta\n",
    "from tensorflow.keras.metrics import BinaryAccuracy, CosineSimilarity, Accuracy, categorical_accuracy\n",
    "from tensorflow.keras.initializers import RandomNormal\n",
    "from tensorflow.keras.utils import plot_model, to_categorical \n",
    "from tensorflow.keras.losses import binary_crossentropy, categorical_crossentropy, CategoricalCrossentropy, SparseCategoricalCrossentropy\n",
    "from tensorflow.keras import backend as K\n",
    "\n",
    "import tensorflow_addons as tfa\n",
    "from tensorflow_addons.losses import contrastive_loss\n",
    "from tensorflow_addons.metrics import F1Score"
   ]
  },
  {
   "cell_type": "code",
   "execution_count": 1932,
   "metadata": {},
   "outputs": [],
   "source": [
    "def euclidean_distance(vects):\n",
    "    x, y = vects\n",
    "    sum_square = K.sum(K.square(x - y), axis=1, keepdims=True)\n",
    "    return K.sqrt(K.maximum(sum_square, K.epsilon()))\n",
    "\n",
    "def eucl_dist_output_shape(shapes):\n",
    "    shape1, shape2 = shapes\n",
    "    return (shape1[0], 1)\n",
    "\n",
    "def contrastive_loss(y_true, y_pred):\n",
    "    margin = 1\n",
    "    square_pred = K.square(y_pred)\n",
    "    margin_square = K.square(K.maximum(margin - y_pred, 0))\n",
    "    return K.mean((1 - y_true) * square_pred + (y_true) * margin_square)\n",
    "\n",
    "def create_base_network(input_shape):\n",
    "        input = Input(shape=input_shape)\n",
    "        x = Flatten()(input)\n",
    "        x = Dense(16, activation='tanh')(x)\n",
    "        x = Dropout(0.1)(x)\n",
    "        x = Dense(4, activation='tanh')(x)\n",
    "        return Model(input, x)\n",
    "    \n",
    "def compute_accuracy(y_true, y_pred):\n",
    "    pred = y_pred.ravel() < 0.5\n",
    "    return np.mean(pred != y_true)\n",
    "\n",
    "def accuracy(y_true, y_pred):\n",
    "    return K.mean(K.equal(y_true, K.cast(y_pred < 0.5, y_true.dtype)))\n"
   ]
  },
  {
   "cell_type": "code",
   "execution_count": 1837,
   "metadata": {},
   "outputs": [],
   "source": [
    "input_shape = tr_pairs_10.shape[2:]\n",
    "base_network = create_base_network(input_shape)\n",
    "input_a = Input(shape=input_shape)\n",
    "input_b = Input(shape=input_shape)\n",
    "processed_a = base_network(input_a)\n",
    "processed_b = base_network(input_b)\n",
    "distance = Lambda(euclidean_distance, output_shape=eucl_dist_output_shape)([processed_a, processed_b])\n",
    "model_10 = Model([input_a, input_b], distance)\n",
    "rms = RMSprop(learning_rate=0.0001)\n",
    "model_10.compile(loss=contrastive_loss, optimizer=rms)"
   ]
  },
  {
   "cell_type": "markdown",
   "metadata": {},
   "source": [
    "# Siamese networks"
   ]
  },
  {
   "cell_type": "code",
   "execution_count": 1838,
   "metadata": {},
   "outputs": [
    {
     "name": "stdout",
     "output_type": "stream",
     "text": [
      "Model: \"model_227\"\n",
      "__________________________________________________________________________________________________\n",
      "Layer (type)                    Output Shape         Param #     Connected to                     \n",
      "==================================================================================================\n",
      "input_341 (InputLayer)          [(None, 72, 5)]      0                                            \n",
      "__________________________________________________________________________________________________\n",
      "input_342 (InputLayer)          [(None, 72, 5)]      0                                            \n",
      "__________________________________________________________________________________________________\n",
      "model_226 (Model)               (None, 4)            5844        input_341[0][0]                  \n",
      "                                                                 input_342[0][0]                  \n",
      "__________________________________________________________________________________________________\n",
      "lambda_113 (Lambda)             (None, 1)            0           model_226[1][0]                  \n",
      "                                                                 model_226[2][0]                  \n",
      "==================================================================================================\n",
      "Total params: 5,844\n",
      "Trainable params: 5,844\n",
      "Non-trainable params: 0\n",
      "__________________________________________________________________________________________________\n"
     ]
    }
   ],
   "source": [
    "model_10.summary()"
   ]
  },
  {
   "cell_type": "code",
   "execution_count": 1839,
   "metadata": {},
   "outputs": [],
   "source": [
    "history_10 = model_10.fit([tr_pairs_10[:, 0], tr_pairs_10[:, 1]], tr_y_10, batch_size=64, epochs=50, validation_split=0.3, verbose=False)"
   ]
  },
  {
   "cell_type": "code",
   "execution_count": 1840,
   "metadata": {},
   "outputs": [],
   "source": [
    "input_shape = tr_pairs_20.shape[2:]\n",
    "base_network = create_base_network(input_shape)\n",
    "input_a = Input(shape=input_shape)\n",
    "input_b = Input(shape=input_shape)\n",
    "processed_a = base_network(input_a)\n",
    "processed_b = base_network(input_b)\n",
    "distance = Lambda(euclidean_distance, output_shape=eucl_dist_output_shape)([processed_a, processed_b])\n",
    "model_20 = Model([input_a, input_b], distance)\n",
    "rms = RMSprop(learning_rate=0.0001)\n",
    "model_20.compile(loss=contrastive_loss, optimizer=rms)\n",
    "history_20 = model_20.fit([tr_pairs_20[:, 0], tr_pairs_20[:, 1]], tr_y_20, batch_size=64, epochs=50, validation_split=0.3, verbose=False)"
   ]
  },
  {
   "cell_type": "code",
   "execution_count": 1841,
   "metadata": {},
   "outputs": [],
   "source": [
    "input_shape = tr_pairs_30.shape[2:]\n",
    "base_network = create_base_network(input_shape)\n",
    "input_a = Input(shape=input_shape)\n",
    "input_b = Input(shape=input_shape)\n",
    "processed_a = base_network(input_a)\n",
    "processed_b = base_network(input_b)\n",
    "distance = Lambda(euclidean_distance, output_shape=eucl_dist_output_shape)([processed_a, processed_b])\n",
    "model_30 = Model([input_a, input_b], distance)\n",
    "rms = RMSprop(learning_rate=0.0001)\n",
    "model_30.compile(loss=contrastive_loss, optimizer=rms)\n",
    "history_30 = model_30.fit([tr_pairs_30[:, 0], tr_pairs_30[:, 1]], tr_y_30, batch_size=64, epochs=50, validation_split=0.3, verbose=False)"
   ]
  },
  {
   "cell_type": "code",
   "execution_count": 1842,
   "metadata": {},
   "outputs": [],
   "source": [
    "input_shape = tr_pairs_40.shape[2:]\n",
    "base_network = create_base_network(input_shape)\n",
    "input_a = Input(shape=input_shape)\n",
    "input_b = Input(shape=input_shape)\n",
    "processed_a = base_network(input_a)\n",
    "processed_b = base_network(input_b)\n",
    "distance = Lambda(euclidean_distance, output_shape=eucl_dist_output_shape)([processed_a, processed_b])\n",
    "model_40 = Model([input_a, input_b], distance)\n",
    "rms = RMSprop(learning_rate=0.0001)\n",
    "model_40.compile(loss=contrastive_loss, optimizer=rms)\n",
    "history_40 = model_40.fit([tr_pairs_40[:, 0], tr_pairs_40[:, 1]], tr_y_40, batch_size=64, epochs=50, validation_split=0.3, verbose=False)"
   ]
  },
  {
   "cell_type": "code",
   "execution_count": 1933,
   "metadata": {},
   "outputs": [],
   "source": [
    "input_shape = tr_pairs_51.shape[2:]\n",
    "base_network = create_base_network(input_shape)\n",
    "input_a = Input(shape=input_shape)\n",
    "input_b = Input(shape=input_shape)\n",
    "processed_a = base_network(input_a)\n",
    "processed_b = base_network(input_b)\n",
    "distance = Lambda(euclidean_distance, output_shape=eucl_dist_output_shape)([processed_a, processed_b])\n",
    "model_51 = Model([input_a, input_b], distance)\n",
    "rms = RMSprop(learning_rate=0.0001)\n",
    "model_51.compile(loss=contrastive_loss, optimizer=rms)\n",
    "history_51 = model_51.fit([tr_pairs_51[:, 0], tr_pairs_51[:, 1]], tr_y_51, batch_size=64, epochs=50, validation_split=0.3, verbose=False)"
   ]
  },
  {
   "cell_type": "code",
   "execution_count": 1934,
   "metadata": {},
   "outputs": [],
   "source": [
    "input_shape = tr_pairs_60.shape[2:]\n",
    "base_network = create_base_network(input_shape)\n",
    "input_a = Input(shape=input_shape)\n",
    "input_b = Input(shape=input_shape)\n",
    "processed_a = base_network(input_a)\n",
    "processed_b = base_network(input_b)\n",
    "distance = Lambda(euclidean_distance, output_shape=eucl_dist_output_shape)([processed_a, processed_b])\n",
    "model_60 = Model([input_a, input_b], distance)\n",
    "rms = RMSprop(learning_rate=0.0001)\n",
    "model_60.compile(loss=contrastive_loss, optimizer=rms)\n",
    "history_60 = model_60.fit([tr_pairs_60[:, 0], tr_pairs_60[:, 1]], tr_y_60, batch_size=64, epochs=50, validation_split=0.3, verbose=False)"
   ]
  },
  {
   "cell_type": "code",
   "execution_count": 1935,
   "metadata": {},
   "outputs": [
    {
     "data": {
      "text/plain": [
       "0.8584066288586274"
      ]
     },
     "execution_count": 1935,
     "metadata": {},
     "output_type": "execute_result"
    }
   ],
   "source": [
    "y_pred = model_60.predict([tr_pairs_60[:,0],tr_pairs_60[:,1]])\n",
    "compute_accuracy(tr_y_60, y_pred)"
   ]
  },
  {
   "cell_type": "code",
   "execution_count": 1844,
   "metadata": {},
   "outputs": [
    {
     "data": {
      "image/png": "[encoded data removed]",
      "text/plain": [
       "<Figure size 432x432 with 1 Axes>"
      ]
     },
     "metadata": {
      "needs_background": "light"
     },
     "output_type": "display_data"
    }
   ],
   "source": [
    "plt.plot(history_40.history['loss'])\n",
    "plt.plot(history_40.history['val_loss'])\n",
    "plt.title('Model loss')\n",
    "plt.ylabel('Loss')\n",
    "plt.xlabel('Epochs')\n",
    "plt.ylim(0,1.0)\n",
    "plt.legend(['Train', 'Validation'], loc='upper left')\n",
    "plt.show()"
   ]
  },
  {
   "cell_type": "code",
   "execution_count": 1845,
   "metadata": {},
   "outputs": [],
   "source": [
    "def get_instance(x_ins, prototypes, model_):\n",
    "    n_prototypes = prototypes.shape[0]\n",
    "    outcomes = np.arange(n_prototypes, dtype=float)\n",
    "    for i in range(n_prototypes):\n",
    "        x_test_pair = np.empty([0, 2, x_ins.shape[0], x_ins.shape[1]])\n",
    "        pair = np.array([[x_ins, prototypes[i]]])\n",
    "        x_test_pair = np.append(x_test_pair, pair, axis=0)\n",
    "        outcomes[i] = model_.predict([x_test_pair[:, 0], x_test_pair[:, 1]])\n",
    "    return outcomes"
   ]
  },
  {
   "cell_type": "code",
   "execution_count": 1846,
   "metadata": {},
   "outputs": [
    {
     "data": {
      "text/plain": [
       "array([0, 1, 1, 0, 0, 0, 0, 1, 0, 1])"
      ]
     },
     "execution_count": 1846,
     "metadata": {},
     "output_type": "execute_result"
    }
   ],
   "source": [
    "tr_y_40[:10]"
   ]
  },
  {
   "cell_type": "code",
   "execution_count": 1847,
   "metadata": {},
   "outputs": [],
   "source": [
    "x_test_pair = np.empty([0, 2, 72, 5])\n",
    "pair = np.array([[tr_pairs_40[0,0],tr_pairs_40[0,1]]])\n",
    "x_test_pair = np.append(x_test_pair, pair, axis=0)\n",
    "y_pred = model_40.predict([x_test_pair[:, 0], x_test_pair[:, 1]])"
   ]
  },
  {
   "cell_type": "code",
   "execution_count": 1848,
   "metadata": {},
   "outputs": [
    {
     "data": {
      "text/plain": [
       "array([[0.16957676]], dtype=float32)"
      ]
     },
     "execution_count": 1848,
     "metadata": {},
     "output_type": "execute_result"
    }
   ],
   "source": [
    "y_pred"
   ]
  },
  {
   "cell_type": "code",
   "execution_count": 1849,
   "metadata": {},
   "outputs": [],
   "source": [
    "def get_bias(x_train,prototypes,model_):\n",
    "    n_prototypes = prototypes.shape[0]\n",
    "    n_instances = x_train.shape[0]\n",
    "    outcomes = np.arange(n_instances*n_prototypes, dtype=float).reshape(n_instances,n_prototypes)\n",
    "    for i in range(n_instances):\n",
    "        outcomes[i,:] = get_instance(x_train[i],prototypes,model_)\n",
    "    \n",
    "    means = np.arange(n_prototypes, dtype=float)\n",
    "    desvs = np.arange(n_prototypes, dtype=float)\n",
    "    for i in range(n_prototypes):\n",
    "        means[i] = np.mean(outcomes[:,i])\n",
    "        desvs[i] = np.std(outcomes[:,i])\n",
    "    return means, desvs, outcomes"
   ]
  },
  {
   "cell_type": "code",
   "execution_count": 1850,
   "metadata": {},
   "outputs": [],
   "source": [
    "means_tr_10, desvs_tr_10, outcomes_tr_10 = get_bias(x_train,prototypes_10,model_10)\n",
    "means_tr_20, desvs_tr_20, outcomes_tr_20 = get_bias(x_train,prototypes_20,model_20)\n",
    "means_tr_30, desvs_tr_30, outcomes_tr_30 = get_bias(x_train,prototypes_30,model_30)\n",
    "means_tr_40, desvs_tr_40, outcomes_tr_40 = get_bias(x_train,prototypes_40,model_40)"
   ]
  },
  {
   "cell_type": "code",
   "execution_count": 1936,
   "metadata": {},
   "outputs": [],
   "source": [
    "means_tr_51, desvs_tr_51, outcomes_tr_51 = get_bias(x_train,prototypes_51,model_51)\n",
    "means_tr_60, desvs_tr_60, outcomes_tr_60 = get_bias(x_train,prototypes_60,model_60)"
   ]
  },
  {
   "cell_type": "code",
   "execution_count": 1851,
   "metadata": {},
   "outputs": [],
   "source": [
    "means_te_10, desvs_te_10, outcomes_te_10 = get_bias(x_test,prototypes_10,model_10)\n",
    "means_te_20, desvs_te_20, outcomes_te_20 = get_bias(x_test,prototypes_20,model_20)\n",
    "means_te_30, desvs_te_30, outcomes_te_30 = get_bias(x_test,prototypes_30,model_30)\n",
    "means_te_40, desvs_te_40, outcomes_te_40 = get_bias(x_test,prototypes_40,model_40)"
   ]
  },
  {
   "cell_type": "code",
   "execution_count": 1937,
   "metadata": {},
   "outputs": [],
   "source": [
    "means_te_51, desvs_te_51, outcomes_te_51 = get_bias(x_test,prototypes_51,model_51)\n",
    "means_te_60, desvs_te_60, outcomes_te_60 = get_bias(x_test,prototypes_60,model_60)"
   ]
  },
  {
   "cell_type": "code",
   "execution_count": 1852,
   "metadata": {},
   "outputs": [],
   "source": [
    "def get_unbias(outcomes, means):\n",
    "    n_instances = outcomes.shape[0]\n",
    "    n_prototypes = outcomes.shape[1]\n",
    "    outcomes_ = np.arange(n_instances*n_prototypes, dtype=float).reshape(n_instances,n_prototypes)\n",
    "    for i in range(n_instances):\n",
    "        outcomes_[i,:] = outcomes[i,:] - means\n",
    "    \n",
    "    return outcomes_"
   ]
  },
  {
   "cell_type": "code",
   "execution_count": 1853,
   "metadata": {},
   "outputs": [],
   "source": [
    "outcomes_tr_un_10 = get_unbias(outcomes_tr_10,means_tr_10)\n",
    "outcomes_tr_un_20 = get_unbias(outcomes_tr_20,means_tr_20)\n",
    "outcomes_tr_un_30 = get_unbias(outcomes_tr_30,means_tr_30)\n",
    "outcomes_tr_un_40 = get_unbias(outcomes_tr_40,means_tr_40)"
   ]
  },
  {
   "cell_type": "code",
   "execution_count": 1938,
   "metadata": {},
   "outputs": [],
   "source": [
    "outcomes_tr_un_51 = get_unbias(outcomes_tr_51,means_tr_51)\n",
    "outcomes_tr_un_60 = get_unbias(outcomes_tr_60,means_tr_60)"
   ]
  },
  {
   "cell_type": "code",
   "execution_count": 1854,
   "metadata": {},
   "outputs": [],
   "source": [
    "outcomes_te_un_10 = get_unbias(outcomes_te_10,means_tr_10)\n",
    "outcomes_te_un_20 = get_unbias(outcomes_te_20,means_tr_20)\n",
    "outcomes_te_un_30 = get_unbias(outcomes_te_30,means_tr_30)\n",
    "outcomes_te_un_40 = get_unbias(outcomes_te_40,means_tr_40)"
   ]
  },
  {
   "cell_type": "code",
   "execution_count": 1939,
   "metadata": {},
   "outputs": [],
   "source": [
    "outcomes_te_un_51 = get_unbias(outcomes_te_51,means_tr_51)\n",
    "outcomes_te_un_60 = get_unbias(outcomes_te_60,means_tr_60)"
   ]
  },
  {
   "cell_type": "markdown",
   "metadata": {},
   "source": [
    "# Bias and variance modeling"
   ]
  },
  {
   "cell_type": "code",
   "execution_count": 1855,
   "metadata": {},
   "outputs": [],
   "source": [
    "def eval_instance(i,outcomes,y,cidx_,verbose=False):\n",
    "    if verbose: \n",
    "        print(\"GT:\",y[i])\n",
    "        print(\"PR:\",cidx_[np.argmin(outcomes[i,:])], np.argmin(outcomes[i,:]))\n",
    "        print(y[i] == cidx_[np.argmin(outcomes[i,:])])\n",
    "        print(outcomes[i,])\n",
    "    return y[i] == cidx_[np.argmin(outcomes[i,:])]"
   ]
  },
  {
   "cell_type": "code",
   "execution_count": 1856,
   "metadata": {},
   "outputs": [
    {
     "name": "stdout",
     "output_type": "stream",
     "text": [
      "GT: 0\n",
      "PR: 0 28\n",
      "True\n",
      "[ 0.57934168  0.53440021  0.5728901   0.67217441 -0.06603308  0.13838618\n",
      " -0.09570878  0.19998058 -0.40626819  0.49691102  0.3580664   0.67602\n",
      "  0.49896348 -0.25692222 -0.58474735 -0.33655291  0.66353402  0.49451214\n",
      "  0.477816    0.36861861  0.62638771  0.1680541   0.21317708  0.6440139\n",
      "  0.66792542 -0.22436452  0.45618847  0.66530554 -0.61972543 -0.07252395\n",
      " -0.35169559  0.56400031  0.11267243 -0.42964491  0.66592677  0.00979138\n",
      "  0.55068147  0.12155823  0.12264299 -0.15287482]\n"
     ]
    },
    {
     "data": {
      "text/plain": [
       "True"
      ]
     },
     "execution_count": 1856,
     "metadata": {},
     "output_type": "execute_result"
    }
   ],
   "source": [
    "eval_instance(7,outcomes_te_un_40,y_test,cidx_40,True)"
   ]
  },
  {
   "cell_type": "code",
   "execution_count": 1857,
   "metadata": {},
   "outputs": [],
   "source": [
    "def get_accuracy(outcomes,y,cidx_):\n",
    "    accum = 0\n",
    "    n_instances = outcomes.shape[0]\n",
    "    for i in range(n_instances):\n",
    "        val = eval_instance(i,outcomes,y,cidx_)\n",
    "        if (val == True): accum += 1\n",
    "            \n",
    "    return accum/n_instances"
   ]
  },
  {
   "cell_type": "code",
   "execution_count": 1941,
   "metadata": {},
   "outputs": [
    {
     "name": "stdout",
     "output_type": "stream",
     "text": [
      "0.5030581039755352\n",
      "0.4969418960244648\n",
      "0.555045871559633\n",
      "0.5519877675840978\n",
      "0.5443425076452599\n",
      "0.5351681957186545\n"
     ]
    }
   ],
   "source": [
    "print(get_accuracy(outcomes_tr_un_10,y_train,cidx_10))\n",
    "print(get_accuracy(outcomes_tr_un_20,y_train,cidx_20))\n",
    "print(get_accuracy(outcomes_tr_un_30,y_train,cidx_30))\n",
    "print(get_accuracy(outcomes_tr_un_40,y_train,cidx_40))\n",
    "print(get_accuracy(outcomes_tr_un_51,y_train,cidx_51))\n",
    "print(get_accuracy(outcomes_tr_un_60,y_train,cidx_60))"
   ]
  },
  {
   "cell_type": "code",
   "execution_count": 1942,
   "metadata": {},
   "outputs": [
    {
     "name": "stdout",
     "output_type": "stream",
     "text": [
      "0.4573170731707317\n",
      "0.4146341463414634\n",
      "0.5\n",
      "0.4634146341463415\n",
      "0.4451219512195122\n",
      "0.4878048780487805\n"
     ]
    }
   ],
   "source": [
    "print(get_accuracy(outcomes_te_un_10,y_test,cidx_10))\n",
    "print(get_accuracy(outcomes_te_un_20,y_test,cidx_20))\n",
    "print(get_accuracy(outcomes_te_un_30,y_test,cidx_30))\n",
    "print(get_accuracy(outcomes_te_un_40,y_test,cidx_40))\n",
    "print(get_accuracy(outcomes_te_un_51,y_test,cidx_51))\n",
    "print(get_accuracy(outcomes_te_un_60,y_test,cidx_60))"
   ]
  },
  {
   "cell_type": "markdown",
   "metadata": {},
   "source": [
    "# FFNN"
   ]
  },
  {
   "cell_type": "code",
   "execution_count": 1943,
   "metadata": {},
   "outputs": [],
   "source": [
    "def get_ml_set(outcomes):\n",
    "    n_instances = outcomes.shape[0]\n",
    "    n_prototypes = outcomes.shape[1]\n",
    "    outcomes_ = np.arange(n_instances*n_prototypes, dtype=float).reshape(n_instances,n_prototypes)\n",
    "    for i in range(n_instances):\n",
    "        xls = outcomes[i,:]*-1\n",
    "        xls = xls - np.min(xls)\n",
    "        xls = xls/np.max(xls)\n",
    "        outcomes_[i,:] = xls\n",
    "        \n",
    "    return outcomes_"
   ]
  },
  {
   "cell_type": "code",
   "execution_count": 1944,
   "metadata": {},
   "outputs": [],
   "source": [
    "outcomes_training_10 = get_ml_set(outcomes_tr_10)\n",
    "outcomes_testing_10 = get_ml_set(outcomes_te_10)\n",
    "outcomes_training_20 = get_ml_set(outcomes_tr_20)\n",
    "outcomes_testing_20 = get_ml_set(outcomes_te_20)\n",
    "outcomes_training_30 = get_ml_set(outcomes_tr_30)\n",
    "outcomes_testing_30 = get_ml_set(outcomes_te_30)\n",
    "outcomes_training_40 = get_ml_set(outcomes_tr_40)\n",
    "outcomes_testing_40 = get_ml_set(outcomes_te_40)\n",
    "outcomes_training_51 = get_ml_set(outcomes_tr_51)\n",
    "outcomes_testing_51 = get_ml_set(outcomes_te_51)\n",
    "outcomes_training_60 = get_ml_set(outcomes_tr_60)\n",
    "outcomes_testing_60 = get_ml_set(outcomes_te_60)"
   ]
  },
  {
   "cell_type": "code",
   "execution_count": 1945,
   "metadata": {},
   "outputs": [],
   "source": [
    "from sklearn.neural_network import MLPClassifier"
   ]
  },
  {
   "cell_type": "code",
   "execution_count": 1946,
   "metadata": {},
   "outputs": [],
   "source": [
    "clf_10 = MLPClassifier(solver='adam', alpha=1e-5, hidden_layer_sizes=(32,4), random_state=1, validation_fraction=0.5, verbose=False, max_iter=1000)\n",
    "clf_20 = MLPClassifier(solver='adam', alpha=1e-5, hidden_layer_sizes=(32,4), random_state=1, validation_fraction=0.5, verbose=False, max_iter=1000)\n",
    "clf_30 = MLPClassifier(solver='adam', alpha=1e-5, hidden_layer_sizes=(32,4), random_state=1, validation_fraction=0.5, verbose=False, max_iter=1000)\n",
    "clf_40 = MLPClassifier(solver='adam', alpha=1e-5, hidden_layer_sizes=(32,4), random_state=1, validation_fraction=0.5, verbose=False, max_iter=1000)\n",
    "clf_51 = MLPClassifier(solver='adam', alpha=1e-5, hidden_layer_sizes=(32,4), random_state=1, validation_fraction=0.5, verbose=False, max_iter=1000)\n",
    "clf_60 = MLPClassifier(solver='adam', alpha=1e-5, hidden_layer_sizes=(32,4), random_state=1, validation_fraction=0.5, verbose=False, max_iter=1000)"
   ]
  },
  {
   "cell_type": "code",
   "execution_count": 1947,
   "metadata": {},
   "outputs": [
    {
     "data": {
      "text/plain": [
       "MLPClassifier(activation='relu', alpha=1e-05, batch_size='auto', beta_1=0.9,\n",
       "              beta_2=0.999, early_stopping=False, epsilon=1e-08,\n",
       "              hidden_layer_sizes=(32, 4), learning_rate='constant',\n",
       "              learning_rate_init=0.001, max_iter=1000, momentum=0.9,\n",
       "              n_iter_no_change=10, nesterovs_momentum=True, power_t=0.5,\n",
       "              random_state=1, shuffle=True, solver='adam', tol=0.0001,\n",
       "              validation_fraction=0.5, verbose=False, warm_start=False)"
      ]
     },
     "execution_count": 1947,
     "metadata": {},
     "output_type": "execute_result"
    }
   ],
   "source": [
    "clf_10.fit(outcomes_training_10,y_train)\n",
    "clf_20.fit(outcomes_training_20,y_train)\n",
    "clf_30.fit(outcomes_training_30,y_train)\n",
    "clf_40.fit(outcomes_training_40,y_train)\n",
    "clf_51.fit(outcomes_training_51,y_train)\n",
    "clf_60.fit(outcomes_training_60,y_train)"
   ]
  },
  {
   "cell_type": "markdown",
   "metadata": {},
   "source": [
    "# Training (k=40 for Tw 16)"
   ]
  },
  {
   "cell_type": "code",
   "execution_count": 1948,
   "metadata": {},
   "outputs": [
    {
     "name": "stdout",
     "output_type": "stream",
     "text": [
      "0.5321100917431193\n",
      "0.5336391437308868\n",
      "0.5749235474006116\n",
      "0.6085626911314985\n",
      "0.5779816513761468\n",
      "0.5856269113149847\n"
     ]
    }
   ],
   "source": [
    "print(clf_10.score(outcomes_training_10,y_train))\n",
    "print(clf_20.score(outcomes_training_20,y_train))\n",
    "print(clf_30.score(outcomes_training_30,y_train))\n",
    "print(clf_40.score(outcomes_training_40,y_train))\n",
    "print(clf_51.score(outcomes_training_51,y_train))\n",
    "print(clf_60.score(outcomes_training_60,y_train))"
   ]
  },
  {
   "cell_type": "markdown",
   "metadata": {},
   "source": [
    "# Testing (k=40 for Tw 16)"
   ]
  },
  {
   "cell_type": "code",
   "execution_count": 1949,
   "metadata": {},
   "outputs": [
    {
     "name": "stdout",
     "output_type": "stream",
     "text": [
      "0.49390243902439024\n",
      "0.5121951219512195\n",
      "0.5\n",
      "0.5548780487804879\n",
      "0.5060975609756098\n",
      "0.5182926829268293\n"
     ]
    }
   ],
   "source": [
    "print(clf_10.score(outcomes_testing_10,y_test))\n",
    "print(clf_20.score(outcomes_testing_20,y_test))\n",
    "print(clf_30.score(outcomes_testing_30,y_test))\n",
    "print(clf_40.score(outcomes_testing_40,y_test))\n",
    "print(clf_51.score(outcomes_testing_51,y_test))\n",
    "print(clf_60.score(outcomes_testing_60,y_test))"
   ]
  }
 ],
 "metadata": {
  "kernelspec": {
   "display_name": "Python 3",
   "language": "python",
   "name": "python3"
  },
  "language_info": {
   "codemirror_mode": {
    "name": "ipython",
    "version": 3
   },
   "file_extension": ".py",
   "mimetype": "text/x-python",
   "name": "python",
   "nbconvert_exporter": "python",
   "pygments_lexer": "ipython3",
   "version": "3.6.9"
  }
 },
 "nbformat": 4,
 "nbformat_minor": 2
}
